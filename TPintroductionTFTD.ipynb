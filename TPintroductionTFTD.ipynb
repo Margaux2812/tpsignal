{
 "cells": [
  {
   "cell_type": "markdown",
   "metadata": {},
   "source": [
    "# TP : initiation à l'estimation de fréquences par la TFTD\n",
    "\n",
    "On rappelle la définition de la TFTD d'un signal de durée $N$ échantillons, calculée à la fréquence normalisée $\\nu $ : \n",
    "$$\n",
    "X(\\nu) = \\sum_{n=0}^{N-1} x[n]e^{-i2\\pi \\nu n}\n",
    "$$\n",
    "\n",
    "Nous allons illustrer le fait que cette fonction est capable, sous certaines conditions, d'estimer les fréquences des sinusoïdes présentes dans un mélange stationnaire. \n",
    "\n",
    "\n",
    "\n",
    "\n",
    "## I Propriétés immédiates et calcul \"brute force\"\n",
    "\n",
    "**propriétés essentielles :** \n",
    "1. la fonction $\\nu \\mapsto X(\\nu)$ est périodique de période $1$\n",
    "2. La fonction $\\nu \\mapsto X(\\nu)$ admet la symétrie Hermitienne \n",
    "    $$\n",
    "    X(-\\nu)=\\overline{X(\\nu)}\n",
    "    $$\n",
    "et donc la fonction $\\nu \\mapsto \\left|X(\\nu)\\right|$ est une fonction paire. \n",
    "\n",
    "**Définition :** on appelle périodogramme du signal la fonction définie par \n",
    "$$\n",
    "I(\\nu)=\\frac{1}{N} \\left| X(\\nu) \\right|^2\n",
    "$$\n",
    "\n",
    "\n",
    "Voici les fonctions Python usuelles : \n"
   ]
  },
  {
   "cell_type": "code",
   "execution_count": 3,
   "metadata": {},
   "outputs": [],
   "source": [
    "%matplotlib inline\n",
    "import matplotlib.pyplot as plt\n",
    "import numpy as np\n",
    "from scipy.io import wavfile as io\n",
    "\n",
    "\n",
    "class signal_mono: \n",
    "    pass\n",
    "\n",
    "\n",
    "## on conviendra que les champs d'un signal_mono sont : \n",
    "##  signal.x  : les valeurs du signal \n",
    "##  signal.N= : le nombre d'échantillons \n",
    "##  signal.Fe : la frequence d'echantillonnage en Hz\n",
    "##  signal.t : le vecteur des temps associé\n",
    "## EXEMPLE D'APPLICATION :  plt.plot(signal.t,signal.x)\n",
    "\n",
    "class periodogramme:\n",
    "    pass\n",
    "## on conviendra que les champs d'un periodogramme (appelons-le S) sont : \n",
    "##  S.val  : les valeurs du spectre \n",
    "##  S.nu : le vecteur des fréquences normalisées \n",
    "##  S.Fe : la frequence d'echantillonnage en Hz\n",
    "## EXEMPLE D'APPLICATION :  plt.plot((S.nu)*XS.Fs,S.val)\n",
    "\n",
    "def creer_periodogramme(valeurs,nu,Fs):\n",
    "    S=spectre()\n",
    "    S.val=valeurs\n",
    "    S.nu = nu\n",
    "    S.Fe = Fs\n",
    "    return(S)\n",
    "\n",
    "\n",
    "def normaliser_son_mono(x):\n",
    "    M = np.max(abs(x)); ## la plus grande valeur absolue du signal\n",
    "    return  x/M;   ### conversion automatique au format réel et normalisation \n",
    "\n",
    "\n",
    "def creer_signal(valeurs,Fe):\n",
    "    out = signal_mono()\n",
    "    out.x = normaliser_son_mono(valeurs)\n",
    "    out.N= np.size(out.x)\n",
    "    out.Fe=Fe\n",
    "    out.t=np.arange(out.N)/Fe\n",
    "    return out\n",
    "\n",
    "def lire_signal(nom_fichier):\n",
    "    rate, data = io.read(nom_fichier)\n",
    "    return(creer)\n",
    "\n",
    "def extraire_signal(signal,t_min,t_max):\n",
    "    condition = ( signal.t   < t_max )*( signal.t > t_min)\n",
    "    out= signal_mono\n",
    "    out.x = np.extract(condition,signal.x)\n",
    "    out.t=np.extract(condition,signal.t)\n",
    "    out.N= np.size(out.x)\n",
    "    out.Fe=signal.Fe\n",
    "    print(np.size(out.x))\n",
    "    return out\n",
    "\n",
    "def enregistrer_son(nom_fichier,signal,Fe):\n",
    "    y=0.5*normaliser_son_mono(signal.x)  ### le facteur 0.5 pour éviter d'exploser les oreilles...\n",
    "    scaled = np.round(32767*y)   ### passage en 16 bits\n",
    "    newdata = scaled.astype(np.int16)   ### conversion en type int\n",
    "    io.write(nom_fichier, Fe, newdata)   ### codage en wav\n",
    "    \n",
    " \n",
    "  "
   ]
  },
  {
   "cell_type": "markdown",
   "metadata": {},
   "source": [
    "### Question no 1 \n",
    "\n",
    "1. Si $\\overrightarrow{x}=(x_0,...,x_{N-1})$ et $\\overrightarrow{y}=(y_0,...,y_{N-1})$ sont deux vecteurs à composantes complexes, on définit le produit scalaire (Hermitien) - en anglais : *Hermitian dot product* - ainsi :\n",
    "$$\n",
    "\\langle \\overrightarrow{x}, \\overrightarrow{y} \\rangle = \\sum_{n=0}^{N-1} \\overline{x_n}y_n.\n",
    "$$\n",
    "Montrez que, **à $\\nu$ fixé**, $X(\\nu)$ est le produit scalaire de deux vecteurs que vous préciserez.  \n",
    "2. Supposons donné un signal `x` qui est de classe `signal_mono`. Complétez la fonction ``calcul_TFTD`` qui évalue la TFTD du signal aux fréquences d'un vecteur `nu`.\n",
    "3. La fonction calcul_periodogramme vous est donnée.\n",
    "4. Complétez la  fonction `extraire_periodogramme` qui extrait une partie du periodogramme entre deux fréquences données $f_{\\min}$ et $f_{\\max}$.  \n",
    "  \n",
    "On cherche les $X(\\nu) = \\sum_{n=0}^{N-1} x[n]e^{-i2\\pi n\\nu}$. On va donc poser $b[n] = x[n]$ et $a[n] = e^{i2\\pi n \\nu}$ car il doit être barré.  \n",
    "On écrira donc `np.vdot(E, x)` quand on utilisera notre fonction `calcul_TFTD`. \n",
    "On va d'abord faire un `np.arange(N)` afin d'avoir toutes les valeurs de 0 à N-1, puis on y applique $i2\\pi n\\nu$ et enfin on y appliquera l'exponentielle.  \n",
    "  \n",
    "##### Def: \n",
    "le périodograme du signal x[0], ..., x[N-1] est\n",
    "$$I[\\nu] = \\frac{1}{N} \\left |X[\\nu]\\right|^2$$"
   ]
  },
  {
   "cell_type": "code",
   "execution_count": 4,
   "metadata": {},
   "outputs": [],
   "source": [
    "### Aide : np.exp(1j*angle) calcule l'exponentielle complexe\n",
    "###        la fonction numpy np.vdot effectue un produit scalaire Hermitien de deux vecteurs\n",
    "###        ayant la même taille\n",
    "\n",
    "def calcul_TFTD(signal,nu):\n",
    "    N=signal.N\n",
    "    x = signal.x\n",
    "    X=np.zeros((np.size(nu)),complex)\n",
    "    no_nu=0\n",
    "    while (no_nu < np.size(nu)): \n",
    "        E=np.exp(1j*np.arange(N)*2*np.pi*nu[no_nu])\n",
    "        X[no_nu] = np.vdot(x,E)\n",
    "        no_nu=no_nu+1\n",
    "    return(X)\n",
    "\n",
    "def calcul_periodogramme(signal,nu):\n",
    "    X = calcul_TFTD(signal,nu)/np.sqrt(signal.N)\n",
    "    I = periodogramme\n",
    "    I.val = np.abs(X)**2 \n",
    "    I.nu = nu\n",
    "    I.Fe = signal.Fe\n",
    "    return(I)\n",
    "\n",
    "def extraire_periodogramme(I,nu_min,nu_max):\n",
    "    out= periodogramme\n",
    "    \n",
    "    return out\n",
    "\n"
   ]
  },
  {
   "cell_type": "markdown",
   "metadata": {},
   "source": [
    "### Question no 2 \n",
    "\n",
    "1. Créez un signal résultant de l'échantillonnage d'un signal réel sinusoïdal de fréquence $f_0=110$Hz en, choisissant $F_e=1000$Hz et une durée d'observation de $T=0.3$ seconde. \n",
    "2. Calculez son périodogramme de classe `periodogramme` en choisissant des fréquences `nu = np.arange(-1,1,0.001)`\n",
    "    et représentez son graphe. \n",
    "3. Représentez un zoom du périodogramme autour de la fréquence $f_0$ et évaluez graphiquement la largeur du lobe principal autour de $f_0$. \n",
    "    \n"
   ]
  },
  {
   "cell_type": "code",
   "execution_count": 7,
   "metadata": {},
   "outputs": [
    {
     "data": {
      "text/plain": [
       "<__main__.signal_mono at 0x1aa64285588>"
      ]
     },
     "execution_count": 7,
     "metadata": {},
     "output_type": "execute_result"
    }
   ],
   "source": [
    "f0 = 110\n",
    "Fe = 1000\n",
    "T = 0.3\n",
    "\n",
    "t = np.arange(0, T, 1/f0)\n",
    "valeurs = np.cos(2*np.pi*f0*t)\n",
    "\n",
    "creer_signal(valeurs, Fe)"
   ]
  },
  {
   "cell_type": "markdown",
   "metadata": {},
   "source": [
    "### Question no 3\n",
    "\n",
    "1. Montrez que la TFTD du signal complexe $\\left( \\exp(i 2\\pi \\nu_0 n) \\right)_{n=0,...,N-1}$ est \n",
    "$$\n",
    "\\exp(i\\pi \\nu (N-1))\\frac{\\sin(\\pi N \\nu )}{\\sin(\\pi \\nu)}\n",
    "$$\n",
    "Quel est le lien avec le noyau de Dirichlet?\n",
    "  \n",
    "On a $$X(\\nu) = \\sum_{0}^{N-1} e^{i2\\pi n(\\nu_{0} - \\nu)} = \\sum_{0}^{N-1} \\left(e^{i2\\pi(\\nu_{0} - \\nu)}\\right)^{n}$$\n",
    "Or on sait que $\\sum z^{n} = \\frac{z^{n} - 1}{z - 1}$ donc ici on a \n",
    "$$X(\\nu) = \\frac{e^{i2\\pi N(\\nu_{0} - \\nu)} -1}{e^{i2\\pi(\\nu_{0} - \\nu)} -1} = \\frac{e^{i\\pi(\\nu_{0}-\\nu)N}\\left(e^{i\\pi(\\nu_{0}-\\nu)N} - e^{-i\\pi(\\nu_{0}-\\nu)N} \\right)}{e^{i\\pi(\\nu_{0}-\\nu)}\\left(e^{i\\pi(\\nu_{0}-\\nu)} - e^{-i\\pi(\\nu_{0}-\\nu)} \\right)}$$\n",
    "On obtient donc, comme $e^{i\\theta} - e^{-i\\theta} = 2isin(\\theta)$ :\n",
    "$$e^{i\\pi(\\nu_0 - \\nu)(N-1)} \\frac{sin(\\pi N(\\nu_{0}-\\nu))}{sin(\\pi(\\nu_{0}-\\nu))}$$\n",
    "  \n",
    "Lorsque $\\nu = \\nu_0$ on a une forme indéterminée. On retiendra que $\\frac{sin(\\pi N(\\nu_0 - \\nu))}{sin(\\pi(\\nu_0 - \\nu))} \\approx \\frac{\\pi N(\\nu_0 - \\nu)}{\\pi(\\nu_0 - \\nu)} \\longrightarrow N$  \n",
    "  \n",
    "Noyau de Dirichlet :  \n",
    "$$D_N(\\theta) = \\frac{sin(\\pi N \\theta)}{sin(\\pi \\theta)}$$\n",
    "On peut en dire que :  \n",
    "- paire  \n",
    "- périodique de période 1  \n",
    "- $D_N(0) = N$  \n",
    "  \n",
    "##### Conséquence :  \n",
    "Le module de la TF du signal $x[\\mu] = e^{i2\\pi n\\nu_0}$. Il y a un pic en $\\nu_0$.\n",
    "  \n",
    "##### Généralisation :  \n",
    "Supposons $y[n] = cos(2\\pi n\\nu_0) = \\frac{e^{i2\\pi n\\nu_0} + e^{-i2\\pi n\\nu_0}}{2} = \\frac{1}{2} \\left[ e^{i\\pi(N-1)(\\nu_0-\\nu)} D_N(\\nu-\\nu_0) + e^{-i\\pi(N-1)(\\nu + \\nu_0)} D_N(\\nu + \\nu_0)\\right]$.\n",
    "  \n",
    "##### Extension :  \n",
    "$$z[n] = A_0cos(2\\pi n \\nu_0) + A_1cos(2\\pi n\\nu_1)$$\n",
    "C'est le modèle d'un accord de 2 sons simples. Des signaux sans harmoniques.\n",
    "  \n",
    "On dit que la résolution de la TF est $\\frac{2}{N}$ . C'est la capacité de la TF à distinguer 2 sinusoïdes.  \n",
    "  \n",
    "  \n",
    "2. Quelle est la TFTD théorique du signal $\\left(\\cos(2\\pi \\nu_0 n) \\right)_{n=0,...,N-1}$? \n",
    "2. Justifier pourquoi, lorsque $\\nu_0$ n'est pas trop \"petite\", le périodogramme  du signal \n",
    "$\\left(\\cos(2\\pi \\nu_0 n) \\right)_{n=0,...,N-1}$ est constitué de lobes dont le principal est est centré en  $\\nu_0$, de largeur $2/N$. \n",
    "\n",
    "3. Quelle est l'atténuation en décibels entre le lobe principal et le premier lobe secondaire? (vous supposerez que $N$ est assez grand). \n",
    "\n",
    "4. Superposez sur un même graphe le périodogramme calculé numériquement et le périodogramme \"théorique\" calculé *via* l'expression donnée au-dessus. \n"
   ]
  },
  {
   "cell_type": "code",
   "execution_count": null,
   "metadata": {},
   "outputs": [],
   "source": []
  },
  {
   "cell_type": "markdown",
   "metadata": {},
   "source": [
    "### Question no 4\n",
    "\n",
    "Cette fois, le signal d'analyse est \n",
    "$$\n",
    "x(t)=\\cos(2\\pi f_0 t)+ \\frac{1}{2}\\cos(2\\pi f_1 t)\n",
    "$$\n",
    "et est observé pendant $T=0.3$ secondes. On supposera que  $f_0<f_1 < \\frac{F_e}{2}$. \n",
    "1. Justifiez brièvement pourquoi le périodogramme du signal laisse apparaître, si $f_1$ et $f_0$ sont \"assez éloignées\", deux pics situés en $\\nu_0=f_0 T_e$ et $\\nu_1=f_1 T_e$. \n",
    "2. Quelle est la condition dépendant de $f_1-f_0$ et $T$ pour que le périodogramme permette de discriminer les deux fréquences? \n",
    "3. Dessinez le périodogramme du signal (même figure, trois graphiques) dans les cas suivants :\n",
    "   \n",
    "   * $f_0=110$Hz, $f_1=120$Hz, $F_e=1000$Hz \n",
    "   * $f_0=110$Hz, $f_1=104$Hz, $F_e=1000$Hz\n",
    "   * $f_0=110$Hz, $f_1=101$Hz, $F_e=1000$Hz"
   ]
  },
  {
   "cell_type": "markdown",
   "metadata": {},
   "source": [
    "## II Application : calcul du périodogramme d'un signal acoustique\n",
    "\n",
    "Vous pouvez télécharger le fichier `Domine_quando_veneris_debut.wav`, l'écouter et le décoder dans votre environnement Python. Si vous voulez écouter l'intégralité du morceau, vous pouvez le télécharger ici :  https://www.dropbox.com/s/1nlvaq7hvrepyv0/1-01%20Domine%20quando%20veneris.wav?dl=0"
   ]
  },
  {
   "cell_type": "code",
   "execution_count": 85,
   "metadata": {},
   "outputs": [
    {
     "data": {
      "image/png": "[encoded data removed]",
      "text/plain": [
       "<Figure size 720x720 with 1 Axes>"
      ]
     },
     "metadata": {
      "needs_background": "light"
     },
     "output_type": "display_data"
    }
   ],
   "source": [
    "rate, data = io.read('Domine_quando_veneris_debut.wav')\n",
    "\n",
    "signal=creer_signal(data[:,0],rate)\n",
    "plt.figure(1,figsize = (10, 10)) \n",
    "plt.plot(signal.t,signal.x)\n",
    "plt.grid()\n",
    "plt.show()\n",
    "\n"
   ]
  },
  {
   "cell_type": "markdown",
   "metadata": {},
   "source": [
    "1. Vous travaillerez avec deux parties stationnaires du signal : \n",
    "  * `signal1` est le signal entre les instants $1.5$s et $2.5$s\n",
    "  * `signal2` est le signal entre les instants $5.5$s et $6.5$s\n",
    "Utilisez la fonction `extraire_signal` pour calculer les deux signaux ci-dessus. Dessinez le graphe de ces signaux.\n",
    "  \n",
    "2. Calculez le spectre de `signal1` pour les fréquences allant de $200$Hz à $2000$Hz avec un pas de $0.3$Hz et représentez son graphe en échelle logarithmique (axe des ordonnées). A quelles fréquences sont situés les pics du périodogramme? Concluez.\n",
    "3. Re prendre la question précédente mais cetet fois avec `signal2`. Peut-on estimer l'accord joué à l'orgue? \n"
   ]
  },
  {
   "cell_type": "code",
   "execution_count": 79,
   "metadata": {},
   "outputs": [],
   "source": [
    "nu  = np.arange(200,2000,0.3)/signal.Fe\n",
    "\n",
    "I1 = calcul_periodogramme(signal1,nu)\n",
    "plt.figure(1,figsize = (10, 10)) \n",
    "plt.plot((I2.nu)*I2.Fe, np.log(I2.val))\n",
    "plt.grid()\n",
    "plt.show()\n"
   ]
  }
 ],
 "metadata": {
  "kernelspec": {
   "display_name": "Python 3",
   "language": "python",
   "name": "python3"
  },
  "language_info": {
   "codemirror_mode": {
    "name": "ipython",
    "version": 3
   },
   "file_extension": ".py",
   "mimetype": "text/x-python",
   "name": "python",
   "nbconvert_exporter": "python",
   "pygments_lexer": "ipython3",
   "version": "3.7.1"
  }
 },
 "nbformat": 4,
 "nbformat_minor": 2
}
