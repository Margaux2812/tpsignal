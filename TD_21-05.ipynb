{
 "cells": [
  {
   "cell_type": "markdown",
   "metadata": {},
   "source": [
    "# TRAITEMENT DU SIGNAL\n",
    "## TRANSFORMEE DE FOURIER DES SIGNAUX A TEMPS DISCRET\n",
    "  \n",
    "On a $X(\\nu) = \\sum_n x[n]e^{-i2\\pi n\\nu}$.\n",
    " \n",
    "### 1. Propriétés de la TF "
   ]
  },
  {
   "cell_type": "markdown",
   "metadata": {},
   "source": [
    "(1) On a : \n",
    "$$\\int_{-\\frac{1}{2}}^{\\frac{1}{2}} X(\\nu)e^{i2\\pi n\\nu} d\\nu = \\int_{-\\frac{1}{2}}^{\\frac{1}{2}} \\sum_k x[k]e^{-i2\\pi n\\nu}e^{i2\\pi n\\nu} d\\nu$$\n",
    "$$= \\int_{-\\frac{1}{2}}^{\\frac{1}{2}} \\sum_k x[k]e^{-i2\\pi \\nu(n-k)}d\\nu$$\n",
    "On a $x[k]$ qui ne dépend pas de $\\nu$.\n",
    "$$=  \\sum_k \\left(x[k]\\int_{-\\frac{1}{2}}^{\\frac{1}{2}}e^{-i2\\pi \\nu(n-k)}d\\nu \\right)$$\n",
    "On cherche maintenant à simplifier l'intégral. On obtient :  \n",
    "$$\\int_{-\\frac{1}{2}}^{\\frac{1}{2}}e^{-i2\\pi \\nu(n-k)}d\\nu = \\frac{1}{i2\\pi(n-k)}*\\left[e^{i\\pi(n-k)} - e^{-i\\pi(n-k)}\\right]^{\\frac{1}{2}}_{-\\frac{1}{2}}$$\n",
    "$$=\\frac{1}{i2\\pi(n-k)}*\\left((-1)^{n-k} - (-1)^{n-k}\\right)$$\n",
    "$$=0$$\n",
    "Attention cependant ! Lorsque n = k, on ne peut pas primitiver l'intégral puisque sinon on a la division par 0. On a donc le terme x[n] qu'on va devoir mettre à part du reste du calcul.  \n",
    "On obtient donc:\n",
    "$$=  \\sum_k \\left(x[k]\\int_{-\\frac{1}{2}}^{\\frac{1}{2}}e^{-i2\\pi \\nu(n-k)}d\\nu \\right) = \\sum_{k(\\text{sans le n})} \\left(x[k]\\int_{-\\frac{1}{2}}^{\\frac{1}{2}}e^{-i2\\pi \\nu(n-k)}d\\nu \\right) + x[n]*1 = x[n]$$  \n"
   ]
  },
  {
   "cell_type": "markdown",
   "metadata": {},
   "source": [
    "(2) On a :\n",
    "$$\\left|X(\\nu)\\right|^2 = X(\\nu)\\times \\overline{X(\\nu)} \\\\\n",
    "\\left(\\sum_n x[n] e^{-i2\\pi n\\nu}\\right)\\times\\left(\\overline{\\sum_k x[k] e^{i2\\pi n\\nu}}\\right) \\\\\n",
    "=\\left(\\sum_n x[n] e^{-i2\\pi n\\nu}\\right)\\times\\left(\\sum_k \\overline{x[k]} e^{i2\\pi n\\nu}\\right) \\\\$$\n",
    "On obtient donc :\n",
    "$$\\int_{-\\frac{1}{2}}^{\\frac{1}{2}} \\left|X(\\nu)\\right|^2 d\\nu = \\int_{-\\frac{1}{2}}^{\\frac{1}{2}} \\left(\\sum_n x[n] e^{-i2\\pi n\\nu}\\right)\\times\\left(\\sum_k \\overline{x[k]} e^{i2\\pi n\\nu}\\right) d\\nu\\\\\n",
    "=  \\sum_{n, k} \\left(x[n]\\times \\overline{x[k]} \\int_{-\\frac{1}{2}}^{\\frac{1}{2}}e^{i2\\pi \\nu (k-n)} d\\nu \\right)$$\n",
    "Or on a vu que $e^{i2\\pi \\nu (k-n)} = 0$ sauf quand $k=n$. On aura donc une intégrale égale à 0 sauf en $k=n$ où elle sera égale à 1. On peut donc simplifier $\\int_{-\\frac{1}{2}}^{\\frac{1}{2}} \\left|X(\\nu)\\right|^2 d\\nu$.  \n",
    "$$\\sum_{n} x[n]\\times \\overline{x[n]} = \\sum_n \\left|x[n]\\right|^2\n",
    "$$"
   ]
  },
  {
   "cell_type": "markdown",
   "metadata": {},
   "source": [
    "(3) La formule du retard est :\n",
    "$$x[n-n_0] \\longleftrightarrow X(\\nu) \\times e^{-i2\\pi n_0 \\nu} \n",
    "$$\n",
    "On pose $Y(\\nu) = \\sum_n y[n]e^{-i2\\pi n\\nu}$ avec $y[n] = x[n - n_0]$. On obtient donc :\n",
    "$$Y(\\nu) = \\sum_n y[n]e^{-i2\\pi n\\nu} \\\\\n",
    "\\Leftrightarrow Y(\\nu) = \\sum_n x[n - n_0]e^{-i2\\pi n\\nu}\n",
    "$$\n",
    "On va ensuite poser $N = n - n_0 \\Leftrightarrow n = N + n_0$ et remplacer dans notre formule de TFTD habituelle afin d'essayer de retrouver la formule du retard.  \n",
    "$$\\sum_n x[n - n_0]e^{-i2\\pi n\\nu} = \\sum_n x[N]e^{-i2\\pi (N + n_0) \\nu} \\\\\n",
    "= \\sum_n x[N]e^{-i2\\pi N\\nu} \\times e^{-i2\\pi n_0\\nu} \\\\\n",
    "= X(\\nu) \\times e^{-i2\\pi n_0 \\nu}$$\n",
    "On a donc bien\n",
    "$$y[n] \\longleftrightarrow Y(\\nu)$$\n",
    "$$x[n - n_0] \\longleftrightarrow X(\\nu) \\times e^{-i2\\pi n_0 \\nu}$$"
   ]
  },
  {
   "cell_type": "markdown",
   "metadata": {},
   "source": [
    "### 3. Dérivation  \n",
    "(1) Montrons que $-i2\\pi n x[n] \\longleftrightarrow \\frac{dX}{d\\nu}(\\nu)$  \n",
    "  \n",
    "Posons dans un premier temps $f(\\nu) = x[n] e^{-i2\\pi n\\nu}$. On va dériver, et x[n] sera donc ici considéré comme une constante. On obtient donc:  \n",
    "$$f'(\\nu) = x[n]\\times(-i2\\pi n)e^{-i2\\pi n \\nu}$$  \n",
    "On peut donc maintenant calculer $\\frac{dX}{d\\nu}(\\nu)$ car c'est égal à $\\sum f'(\\nu)$  \n",
    "On procède comme suit :  \n",
    "$$\\frac{dX}{d\\nu}(\\nu) = \\sum \\left(x[n] e^{-i2\\pi n\\nu}\\times(-i2\\pi n)\\right) \\\\\n",
    "\\text{comme $(-i2\\pi n)$ n'est pas influencé par la valeur de $\\nu$ on peut le sortir de la somme}\\\\\n",
    "=\\sum \\left(x[n] e^{-i2\\pi n\\nu}\\right)\\times(-i2\\pi n) \\\\\n",
    "=X(\\nu) \\times (-i2\\pi n)$$\n",
    "Donc on a bien\n",
    "$$x[n] \\longleftrightarrow X(\\nu)$$\n",
    "$$-i2\\pi n\\times x[n] \\longleftrightarrow \\frac{dX}{d\\nu}(\\nu)$$"
   ]
  }
 ],
 "metadata": {
  "kernelspec": {
   "display_name": "Python 3",
   "language": "python",
   "name": "python3"
  },
  "language_info": {
   "codemirror_mode": {
    "name": "ipython",
    "version": 3
   },
   "file_extension": ".py",
   "mimetype": "text/x-python",
   "name": "python",
   "nbconvert_exporter": "python",
   "pygments_lexer": "ipython3",
   "version": "3.7.1"
  }
 },
 "nbformat": 4,
 "nbformat_minor": 2
}
